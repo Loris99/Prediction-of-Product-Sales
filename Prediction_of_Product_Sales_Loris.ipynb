{
  "nbformat": 4,
  "nbformat_minor": 0,
  "metadata": {
    "colab": {
      "provenance": [],
      "authorship_tag": "ABX9TyMExvvBoXg319VRk/gkFYw8",
      "include_colab_link": true
    },
    "kernelspec": {
      "name": "python3",
      "display_name": "Python 3"
    },
    "language_info": {
      "name": "python"
    }
  },
  "cells": [
    {
      "cell_type": "markdown",
      "metadata": {
        "id": "view-in-github",
        "colab_type": "text"
      },
      "source": [
        "<a href=\"https://colab.research.google.com/github/Loris99/Prediction-of-Product-Sales/blob/main/Prediction_of_Product_Sales_Loris.ipynb\" target=\"_parent\"><img src=\"https://colab.research.google.com/assets/colab-badge.svg\" alt=\"Open In Colab\"/></a>"
      ]
    },
    {
      "cell_type": "markdown",
      "source": [
        "# Project Title: (Prediction of Product Sales).\n"
      ],
      "metadata": {
        "id": "RBpaKcFeeW0V"
      }
    },
    {
      "cell_type": "markdown",
      "source": [
        "- Author: Loris Tarazi\n"
      ],
      "metadata": {
        "id": "Ah8qLJUFed2q"
      }
    },
    {
      "cell_type": "markdown",
      "source": [
        "## Project Overview\n"
      ],
      "metadata": {
        "id": "8rUn60Fgep2W"
      }
    },
    {
      "cell_type": "markdown",
      "source": [
        "## Load and Inspect Data"
      ],
      "metadata": {
        "id": "Uff65kEJer0h"
      }
    },
    {
      "cell_type": "code",
      "source": [],
      "metadata": {
        "id": "bBeX_1d-e29-"
      },
      "execution_count": null,
      "outputs": []
    },
    {
      "cell_type": "markdown",
      "source": [
        "## Clean Data\n"
      ],
      "metadata": {
        "id": "fHKJIVHCevCu"
      }
    },
    {
      "cell_type": "code",
      "source": [],
      "metadata": {
        "id": "-PYC4cv9fTTi"
      },
      "execution_count": null,
      "outputs": []
    },
    {
      "cell_type": "markdown",
      "source": [
        "## Exploratory Data Analysis"
      ],
      "metadata": {
        "id": "Q7ophKDteyO3"
      }
    },
    {
      "cell_type": "code",
      "source": [],
      "metadata": {
        "id": "OSSE0L1MfVHm"
      },
      "execution_count": null,
      "outputs": []
    },
    {
      "cell_type": "markdown",
      "source": [
        "## Feature Inspection"
      ],
      "metadata": {
        "id": "EgK-85fle42I"
      }
    },
    {
      "cell_type": "code",
      "execution_count": null,
      "metadata": {
        "id": "qzWNJBjxeGT2"
      },
      "outputs": [],
      "source": []
    }
  ]
}